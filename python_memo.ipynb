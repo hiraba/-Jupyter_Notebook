{
 "metadata": {
  "language_info": {
   "codemirror_mode": {
    "name": "ipython",
    "version": 3
   },
   "file_extension": ".py",
   "mimetype": "text/x-python",
   "name": "python",
   "nbconvert_exporter": "python",
   "pygments_lexer": "ipython3",
   "version": "3.7.5-final"
  },
  "orig_nbformat": 2,
  "kernelspec": {
   "name": "python3",
   "display_name": "Python 3",
   "language": "python"
  }
 },
 "nbformat": 4,
 "nbformat_minor": 2,
 "cells": [
  {
   "source": [
    "Python日付型\n",
    "https://qiita.com/motoki1990/items/8275dbe02d5fd5fa6d2d"
   ],
   "cell_type": "markdown",
   "metadata": {}
  },
  {
   "source": [
    "import datetime\n",
    "# hours=9 で日本時間への変換となっている\n",
    "# JSTとUTCの差分\n",
    "DIFF_JST_FROM_UTC = 9\n",
    "\n",
    "datetime.datetime.today() + datetime.timedelta(hours=DIFF_JST_FROM_UTC)"
   ],
   "cell_type": "code",
   "metadata": {},
   "execution_count": 14,
   "outputs": [
    {
     "output_type": "execute_result",
     "data": {
      "text/plain": [
       "datetime.datetime(2021, 1, 31, 21, 35, 49, 649778)"
      ]
     },
     "metadata": {},
     "execution_count": 14
    }
   ]
  }
 ]
}